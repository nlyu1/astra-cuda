{
 "cells": [
  {
   "cell_type": "code",
   "execution_count": 9,
   "id": "4e3ce3c9",
   "metadata": {},
   "outputs": [
    {
     "data": {
      "text/plain": [
       "tensor([[11, 18,  0, 11],\n",
       "        [ 1,  3,  0,  1],\n",
       "        [18,  1,  0,  1],\n",
       "        [16,  8,  1, 16],\n",
       "        [ 7,  9,  1,  9],\n",
       "        [ 2,  2,  1,  2],\n",
       "        [10, 13,  0, 10],\n",
       "        [12,  9,  1, 12],\n",
       "        [19,  9,  1, 19],\n",
       "        [13,  3,  1, 13],\n",
       "        [ 9,  9,  1,  9],\n",
       "        [ 4,  0,  1,  4],\n",
       "        [13, 12,  1, 13],\n",
       "        [10, 15,  0, 10],\n",
       "        [17,  3,  0,  3],\n",
       "        [ 3, 16,  0,  3],\n",
       "        [10, 19,  1, 19],\n",
       "        [10, 15,  0, 10],\n",
       "        [ 9, 17,  1, 17],\n",
       "        [ 3, 12,  1, 12]])"
      ]
     },
     "execution_count": 9,
     "metadata": {},
     "output_type": "execute_result"
    }
   ],
   "source": [
    "import torch \n",
    "\n",
    "n = 20 \n",
    "\n",
    "perms = torch.stack([torch.randperm(5) for _ in range(n)])\n",
    "value_mask = perms < 2 \n",
    "\n",
    "contract_candidates = torch.randint(20, size=(n, 2))\n",
    "high_settlement = torch.randint(2, size=(n,)).bool()\n",
    "settle_value = torch.where(high_settlement, contract_candidates.max(-1)[0], contract_candidates.min(-1)[0])\n",
    "torch.cat([contract_candidates, high_settlement.unsqueeze(-1), settle_value.unsqueeze(-1)], dim=-1)"
   ]
  },
  {
   "cell_type": "code",
   "execution_count": 11,
   "id": "9b3d40c5",
   "metadata": {},
   "outputs": [
    {
     "data": {
      "text/plain": [
       "tensor([[1, 3, 4, 0, 2],\n",
       "        [3, 1, 0, 4, 2],\n",
       "        [1, 3, 2, 0, 4],\n",
       "        [2, 3, 4, 0, 1],\n",
       "        [0, 3, 1, 4, 2],\n",
       "        [0, 2, 4, 3, 1],\n",
       "        [4, 3, 0, 1, 2],\n",
       "        [2, 0, 1, 4, 3],\n",
       "        [0, 3, 1, 4, 2],\n",
       "        [4, 1, 3, 2, 0],\n",
       "        [1, 2, 4, 0, 3],\n",
       "        [4, 0, 3, 2, 1],\n",
       "        [2, 1, 0, 4, 3],\n",
       "        [2, 3, 0, 4, 1],\n",
       "        [0, 1, 3, 4, 2],\n",
       "        [0, 4, 3, 1, 2],\n",
       "        [4, 1, 3, 0, 2],\n",
       "        [2, 4, 0, 1, 3],\n",
       "        [1, 4, 2, 3, 0],\n",
       "        [4, 2, 1, 3, 0]])"
      ]
     },
     "execution_count": 11,
     "metadata": {},
     "output_type": "execute_result"
    }
   ],
   "source": [
    "info_roles = perms.clone()\n",
    "value_mask = info_roles < 2 \n",
    "is_chosen_mask = (contract_candidates == settle_value.unsqueeze(-1))\n",
    "info_roles"
   ]
  },
  {
   "cell_type": "code",
   "execution_count": 23,
   "id": "bc982175",
   "metadata": {},
   "outputs": [],
   "source": [
    "info_roles = perms.clone()\n",
    "\n",
    "# Create masks for positions 0 and 1 in the permutation\n",
    "pos_0_mask = (perms == 0)\n",
    "pos_1_mask = (perms == 1)\n",
    "\n",
    "# Check which contracts were chosen\n",
    "first_chosen = (contract_candidates[:, 0] == settle_value)\n",
    "second_chosen = (contract_candidates[:, 1] == settle_value)\n",
    "\n",
    "# Update info_roles where original value was 0\n",
    "info_roles[pos_0_mask] = torch.where(first_chosen, 0, 1).repeat_interleave(5).reshape(n, 5)[pos_0_mask]\n",
    "\n",
    "# Update info_roles where original value was 1  \n",
    "info_roles[pos_1_mask] = torch.where(second_chosen, 0, 1).repeat_interleave(5).reshape(n, 5)[pos_1_mask]"
   ]
  },
  {
   "cell_type": "code",
   "execution_count": 24,
   "id": "7bb3d8eb",
   "metadata": {},
   "outputs": [
    {
     "data": {
      "text/plain": [
       "(tensor([[1, 3, 4, 0, 2],\n",
       "         [3, 1, 0, 4, 2],\n",
       "         [0, 3, 2, 1, 4],\n",
       "         [2, 3, 4, 0, 1],\n",
       "         [1, 3, 0, 4, 2],\n",
       "         [0, 2, 4, 3, 0],\n",
       "         [4, 3, 0, 1, 2],\n",
       "         [2, 0, 1, 4, 3],\n",
       "         [0, 3, 1, 4, 2],\n",
       "         [4, 1, 3, 2, 0]]),\n",
       " tensor([[1, 3, 4, 0, 2],\n",
       "         [3, 1, 0, 4, 2],\n",
       "         [1, 3, 2, 0, 4],\n",
       "         [2, 3, 4, 0, 1],\n",
       "         [0, 3, 1, 4, 2],\n",
       "         [0, 2, 4, 3, 1],\n",
       "         [4, 3, 0, 1, 2],\n",
       "         [2, 0, 1, 4, 3],\n",
       "         [0, 3, 1, 4, 2],\n",
       "         [4, 1, 3, 2, 0]]))"
      ]
     },
     "execution_count": 24,
     "metadata": {},
     "output_type": "execute_result"
    }
   ],
   "source": [
    "info_roles[:10], perms[:10]"
   ]
  },
  {
   "cell_type": "code",
   "execution_count": 20,
   "id": "0e35530f",
   "metadata": {},
   "outputs": [
    {
     "ename": "AttributeError",
     "evalue": "'Tensor' object has no attribute 'at'",
     "output_type": "error",
     "traceback": [
      "\u001b[31m---------------------------------------------------------------------------\u001b[39m",
      "\u001b[31mAttributeError\u001b[39m                            Traceback (most recent call last)",
      "\u001b[36mCell\u001b[39m\u001b[36m \u001b[39m\u001b[32mIn[20]\u001b[39m\u001b[32m, line 1\u001b[39m\n\u001b[32m----> \u001b[39m\u001b[32m1\u001b[39m \u001b[43minfo_roles\u001b[49m\u001b[43m.\u001b[49m\u001b[43mat\u001b[49m(value_mask)\n",
      "\u001b[31mAttributeError\u001b[39m: 'Tensor' object has no attribute 'at'"
     ]
    }
   ],
   "source": [
    "info_roles.at(value_mask)"
   ]
  },
  {
   "cell_type": "code",
   "execution_count": null,
   "id": "3b441565",
   "metadata": {},
   "outputs": [],
   "source": []
  }
 ],
 "metadata": {
  "kernelspec": {
   "display_name": "astra",
   "language": "python",
   "name": "python3"
  },
  "language_info": {
   "codemirror_mode": {
    "name": "ipython",
    "version": 3
   },
   "file_extension": ".py",
   "mimetype": "text/x-python",
   "name": "python",
   "nbconvert_exporter": "python",
   "pygments_lexer": "ipython3",
   "version": "3.12.9"
  }
 },
 "nbformat": 4,
 "nbformat_minor": 5
}
